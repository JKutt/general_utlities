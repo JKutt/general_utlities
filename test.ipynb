{
 "cells": [
  {
   "cell_type": "code",
   "execution_count": 1,
   "metadata": {},
   "outputs": [],
   "source": [
    "from vae_classes import *\n",
    "from vae_functions import *"
   ]
  },
  {
   "cell_type": "code",
   "execution_count": 2,
   "metadata": {},
   "outputs": [],
   "source": [
    "### saved model directory\n",
    "path = r'/Users/VanessaYau/Downloads/Dias_Dev/vae_dev/vaemodel_run.pt'"
   ]
  },
  {
   "cell_type": "markdown",
   "metadata": {},
   "source": [
    "Load in Training Data"
   ]
  },
  {
   "cell_type": "code",
   "execution_count": 3,
   "metadata": {},
   "outputs": [],
   "source": [
    "input_dict = {\"learn_data\": \"train_master.npy\",\n",
    "              \"learn_labels\": \"labels_master.npy\"}\n",
    "\n",
    "train_loader, test_loader, train_data, test_data = load_training_data(input_dict)"
   ]
  },
  {
   "cell_type": "markdown",
   "metadata": {},
   "source": [
    "Train Model"
   ]
  },
  {
   "cell_type": "code",
   "execution_count": null,
   "metadata": {},
   "outputs": [],
   "source": [
    "# ### uncomment if no model saved\n",
    "# if torch.cuda.is_available():\n",
    "#     device = torch.device('cuda')\n",
    "# else:\n",
    "#     device = torch.device('cpu')\n",
    "\n",
    "# device = 'cuda' if torch.cuda.is_available() else 'cpu'\n",
    "# print(device, torch.cuda.is_available())\n",
    "# # print(torch.cuda.get_device_name(0))\n",
    "\n",
    "# latent_dims = 2\n",
    "# vae = VariationalAutoencoder(latent_dims, device) # GPU\n",
    "# vae, error = training_procedure(vae, train_loader, device, epochs=100)\n",
    "# vae = vae.to(device)\n",
    "\n",
    "# plotting the loss\n",
    "# error = [item.detach().numpy() for item in error]\n",
    "# plt.plot(np.hstack(error))\n",
    "\n",
    "# ### save entire model\n",
    "# torch.save(vae, path)"
   ]
  },
  {
   "cell_type": "markdown",
   "metadata": {},
   "source": [
    "Load Saved Model"
   ]
  },
  {
   "cell_type": "code",
   "execution_count": 4,
   "metadata": {},
   "outputs": [
    {
     "name": "stdout",
     "output_type": "stream",
     "text": [
      "cpu False\n"
     ]
    },
    {
     "data": {
      "text/plain": [
       "VariationalAutoencoder(\n",
       "  (encoder): VariationalEncoder(\n",
       "    (linear1): Linear(in_features=1200, out_features=512, bias=True)\n",
       "    (linear_1): Linear(in_features=512, out_features=256, bias=True)\n",
       "    (linear_2): Linear(in_features=256, out_features=128, bias=True)\n",
       "    (linear_3): Linear(in_features=128, out_features=64, bias=True)\n",
       "    (linear_4): Linear(in_features=64, out_features=32, bias=True)\n",
       "    (linear2): Linear(in_features=32, out_features=2, bias=True)\n",
       "    (linear3): Linear(in_features=32, out_features=2, bias=True)\n",
       "  )\n",
       "  (decoder): Decoder(\n",
       "    (linear1): Linear(in_features=2, out_features=128, bias=True)\n",
       "    (linear_2): Linear(in_features=128, out_features=256, bias=True)\n",
       "    (linear_3): Linear(in_features=256, out_features=512, bias=True)\n",
       "    (linear2): Linear(in_features=512, out_features=1200, bias=True)\n",
       "  )\n",
       ")"
      ]
     },
     "execution_count": 4,
     "metadata": {},
     "output_type": "execute_result"
    }
   ],
   "source": [
    "device = 'cuda' if torch.cuda.is_available() else 'cpu'\n",
    "print(device, torch.cuda.is_available())\n",
    "latent_dims = 2\n",
    "vae = VariationalAutoencoder(latent_dims, device) # GPU\n",
    "\n",
    "# vae.load_state_dict(torch.load(path))\n",
    "vae = torch.load(path)\n",
    "vae.eval()"
   ]
  },
  {
   "cell_type": "code",
   "execution_count": 5,
   "metadata": {},
   "outputs": [
    {
     "ename": "AttributeError",
     "evalue": "'tuple' object has no attribute 'show'",
     "output_type": "error",
     "traceback": [
      "\u001b[1;31m---------------------------------------------------------------------------\u001b[0m",
      "\u001b[1;31mAttributeError\u001b[0m                            Traceback (most recent call last)",
      "Cell \u001b[1;32mIn[5], line 3\u001b[0m\n\u001b[0;32m      1\u001b[0m \u001b[39m### plot latent space\u001b[39;00m\n\u001b[0;32m      2\u001b[0m fig \u001b[39m=\u001b[39m plot_latent_space(vae, train_loader, device) \u001b[39m# set saveIt=1 to save, default 0\u001b[39;00m\n\u001b[1;32m----> 3\u001b[0m fig\u001b[39m.\u001b[39mshow()\n",
      "\u001b[1;31mAttributeError\u001b[0m: 'tuple' object has no attribute 'show'"
     ]
    }
   ],
   "source": [
    "### plot latent space\n",
    "fig = plot_latent_space(vae, train_loader, device) # set saveIt=1 to save, default 0\n",
    "fig.show()"
   ]
  },
  {
   "cell_type": "code",
   "execution_count": null,
   "metadata": {},
   "outputs": [],
   "source": [
    "### plot a reconstructions (training data vs model)\n",
    "fig = plot_reconstructions(test_data, vae, device) # set saveIt=1 to save as html, default 0\n",
    "fig.show()"
   ]
  },
  {
   "cell_type": "markdown",
   "metadata": {},
   "source": [
    "Test with Field Data"
   ]
  },
  {
   "cell_type": "code",
   "execution_count": null,
   "metadata": {},
   "outputs": [],
   "source": [
    "### load in DCIP time series\n",
    "dir_path_dc = r'/Users/VanessaYau/Downloads/Dias_Dev/vae_dev/test_dat_less/' # can input single file or group of files\n",
    "\n",
    "reconstruction_errors, receiver_dict, xc_data, xt_data = load_DCIPtimeseries(dir_path_dc, vae, device) \n",
    "# TODO this function is quite slow (lots of data could also be a culpret)\n"
   ]
  },
  {
   "cell_type": "code",
   "execution_count": null,
   "metadata": {},
   "outputs": [],
   "source": [
    "stds = []\n",
    "stds_raw = []\n",
    "locations = []\n",
    "rec_error = []\n",
    "\n",
    "lowest = 10.0\n",
    "key_save = None\n",
    "for key in receiver_dict.keys():\n",
    "\n",
    "    stds.append(receiver_dict[key]['std'])\n",
    "    stds_raw.append(receiver_dict[key]['std_ip'])\n",
    "    locations += [[float(receiver_dict[key]['location'][0]), float(receiver_dict[key]['location'][1])]]\n",
    "    rec_error += [np.mean(receiver_dict[key]['reconstruction_error'])]\n",
    "\n",
    "    if np.min(receiver_dict[key]['reconstruction_error']) < lowest:\n",
    "\n",
    "        lowest = np.median(receiver_dict[key]['reconstruction_error'])\n",
    "        key_save = key\n"
   ]
  },
  {
   "cell_type": "code",
   "execution_count": null,
   "metadata": {},
   "outputs": [],
   "source": [
    "### plot field data\n",
    "fig, axes = plot_histograms(reconstruction_errors, stds) # set saveIt=1 to save, default 0\n",
    "plt.show()\n",
    "\n",
    "fig, axes = plot_dist(locations, stds, stds_raw, rec_error)\n",
    "plt.show()"
   ]
  },
  {
   "cell_type": "code",
   "execution_count": null,
   "metadata": {},
   "outputs": [],
   "source": [
    "locations = np.vstack(locations)\n",
    "\n",
    "fig, ax = plot_gmm(locations, rec_error)\n",
    "plt.show()\n"
   ]
  },
  {
   "cell_type": "code",
   "execution_count": null,
   "metadata": {},
   "outputs": [],
   "source": [
    "### reconstruct the time series with one node\n",
    "node = dir_path_dc + listdir(dir_path_dc)[4]\n",
    "\n",
    "reconstruction_errors, receiver_dict, xc_data, xt_data = load_DCIPtimeseries(node, vae, device)"
   ]
  },
  {
   "cell_type": "code",
   "execution_count": null,
   "metadata": {},
   "outputs": [],
   "source": [
    "### plot field reconstruction of one node\n",
    "fig, axs = plot_fieldreconstruction(xc_data, xt_data, node)\n",
    "plt.show()"
   ]
  },
  {
   "cell_type": "code",
   "execution_count": null,
   "metadata": {},
   "outputs": [],
   "source": [
    "### plot voltage and decay (raw field data vs vae)\n",
    "stack, stack2, decay, decay2, mx1, mx2, mid_time = stackDCIPdata(xc_data, xt_data)\n",
    "\n",
    "fig, axs = plot_voltagedecay(stack, stack2, decay, decay2, mx1, mx2, mid_time, node)"
   ]
  }
 ],
 "metadata": {
  "kernelspec": {
   "display_name": "env_eosc410",
   "language": "python",
   "name": "python3"
  },
  "language_info": {
   "codemirror_mode": {
    "name": "ipython",
    "version": 3
   },
   "file_extension": ".py",
   "mimetype": "text/x-python",
   "name": "python",
   "nbconvert_exporter": "python",
   "pygments_lexer": "ipython3",
   "version": "3.11.3"
  },
  "orig_nbformat": 4
 },
 "nbformat": 4,
 "nbformat_minor": 2
}
